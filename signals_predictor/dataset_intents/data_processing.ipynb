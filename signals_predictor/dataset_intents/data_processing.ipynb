{
 "cells": [
  {
   "cell_type": "code",
   "execution_count": 13,
   "metadata": {},
   "outputs": [
    {
     "name": "stdout",
     "output_type": "stream",
     "text": [
      "40  610\n",
      "36  610\n",
      "33  610\n",
      "37  610\n",
      "35  610\n",
      "34  610\n",
      "32  610\n",
      "38  610\n",
      "39  610\n"
     ]
    }
   ],
   "source": [
    "import sys\n",
    "from collections import Counter\n",
    "\n",
    "train_data=open(\"train.txt\",\"r\").readlines()\n",
    "labels=[]\n",
    "for data in train_data:\n",
    "    label,utterance=data.split(\"<SEP>\")\n",
    "    labels.append(label)\n",
    "\n",
    "label_count=Counter(labels)\n",
    "#print the number for the label >32\n",
    "for key,value in label_count.items():\n",
    "    if int(key)>31:\n",
    "        print(key,value)   "
   ]
  },
  {
   "cell_type": "code",
   "execution_count": 8,
   "metadata": {},
   "outputs": [
    {
     "name": "stdout",
     "output_type": "stream",
     "text": [
      "38  86\n",
      "34  86\n",
      "37  86\n",
      "33  86\n",
      "35  86\n",
      "39  86\n",
      "36  86\n",
      "40  86\n",
      "32  86\n"
     ]
    }
   ],
   "source": [
    "valid_data=open(\"valid.txt\",\"r\").readlines()\n",
    "labels=[]\n",
    "for data in valid_data:\n",
    "    label,utterance=data.split(\"<SEP>\")\n",
    "    labels.append(label)\n",
    "\n",
    "label_count=Counter(labels)\n",
    "for key,value in label_count.items():\n",
    "    if int(key)>31:\n",
    "        print(key,value)"
   ]
  },
  {
   "cell_type": "code",
   "execution_count": 16,
   "metadata": {},
   "outputs": [
    {
     "name": "stdout",
     "output_type": "stream",
     "text": [
      "34  78\n",
      "32  78\n",
      "38  78\n",
      "33  78\n",
      "37  78\n",
      "40  78\n",
      "39  78\n",
      "36  78\n",
      "35  78\n"
     ]
    }
   ],
   "source": [
    "valid_data=open(\"test.txt\",\"r\").readlines()\n",
    "labels=[]\n",
    "for data in valid_data:\n",
    "    label,utterance=data.split(\"<SEP>\")\n",
    "    labels.append(label)\n",
    "\n",
    "label_count=Counter(labels)\n",
    "for key,value in label_count.items():\n",
    "    if int(key)>31:\n",
    "        print(key,value)"
   ]
  },
  {
   "cell_type": "code",
   "execution_count": 18,
   "metadata": {},
   "outputs": [
    {
     "name": "stdout",
     "output_type": "stream",
     "text": [
      "(5490, 2)\n",
      "(774, 2)\n",
      "(702, 2)\n",
      "[SPK2] hopefully some orphan uses it wisely.\n"
     ]
    }
   ],
   "source": [
    "import pandas as pd\n",
    "\n",
    "train_data=open('train.txt').readlines()\n",
    "valid_data=open('valid.txt').readlines()\n",
    "test_data=open('test.txt').readlines()\n",
    "\n",
    "train={'data':[],'label':[]}\n",
    "valid={'data':[],'label':[]}\n",
    "test={'data':[],'label':[]}\n",
    "\n",
    "for line in train_data:\n",
    "\tlabel=line.strip().split('<SEP>')[0]\n",
    "\tdata=line.strip().split('<SEP>')[1]\n",
    "\tif int(label)>31:\n",
    "\t\ttrain['data'].append(data)\n",
    "\t\ttrain['label'].append(label)\n",
    "\n",
    "for line in valid_data:\n",
    "\tlabel=line.strip().split('<SEP>')[0]\n",
    "\tdata=line.strip().split('<SEP>')[1]\n",
    "\tif int(label)>31:\n",
    "\t\tvalid['data'].append(data)\n",
    "\t\tvalid['label'].append(label)\n",
    "  \n",
    "for line in test_data:\n",
    "\tlabel=line.strip().split('<SEP>')[0]\n",
    "\tdata=line.strip().split('<SEP>')[1]\n",
    "\tif int(label)>31:\n",
    "\t\ttest['data'].append('[SPK2]'+data)\n",
    "\t\ttest['label'].append(label)\n",
    "\n",
    "train=pd.DataFrame(train)\n",
    "valid=pd.DataFrame(valid)\n",
    "test=pd.DataFrame(test)\n",
    "\n",
    "print(train.shape)\n",
    "print(valid.shape)\n",
    "print(test.shape)\n",
    "\n",
    "print(test.data[0])"
   ]
  }
 ],
 "metadata": {
  "kernelspec": {
   "display_name": "pytorch1",
   "language": "python",
   "name": "python3"
  },
  "language_info": {
   "codemirror_mode": {
    "name": "ipython",
    "version": 3
   },
   "file_extension": ".py",
   "mimetype": "text/x-python",
   "name": "python",
   "nbconvert_exporter": "python",
   "pygments_lexer": "ipython3",
   "version": "3.8.12"
  },
  "orig_nbformat": 4
 },
 "nbformat": 4,
 "nbformat_minor": 2
}
